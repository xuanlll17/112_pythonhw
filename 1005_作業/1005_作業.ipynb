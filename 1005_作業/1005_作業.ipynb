{
 "cells": [
  {
   "cell_type": "markdown",
   "metadata": {},
   "source": [
    "# 檔案存取"
   ]
  },
  {
   "cell_type": "markdown",
   "metadata": {},
   "source": [
    "## access_mode\n",
    "- 讀\n",
    "    - r\n",
    "    - rb (二進位)\n",
    "- 讀 + 寫 \n",
    "    - r+\n",
    "    - rb+ (二進位)\n",
    "- 寫 (文件存在 -> 覆蓋, 文件不存在 -> 建新文件,寫入)\n",
    "    - w\n",
    "    - wb (二進位)\n",
    "- 寫 + 讀 (文件存在 -> 覆蓋, 文件不存在 -> 建新文件,讀 + 寫)\n",
    "    - w+\n",
    "    - wb+\n",
    "- 文件附加 (文件存在 -> 從後面加, 文件不存在 -> 建新文件,寫入)\n",
    "    - a\n",
    "    - ab (二進位)\n",
    "- 文件附加 + 讀 (文件存在 -> 從後面加, 文件不存在 -> 建新文件,讀取)\n",
    "    - a+\n",
    "    - ab+ (二進位)\n"
   ]
  },
  {
   "cell_type": "code",
   "execution_count": 1,
   "metadata": {},
   "outputs": [],
   "source": [
    "text = '''python與中文\n",
    "1. 我們來試試看中文儲存能力。\n",
    "2. 許這個字會有編碼衝突風險。\n",
    "3. 犇這個字必須是utf8編碼才有。'''\n",
    "\n",
    "print(text, file=open('data.txt','w',encoding='utf-8'))\n",
    "# file object = open(file_name[,access_mode])\n",
    "# file_name -> 要連結的文件名稱\n",
    "# access_mode -> 確定文件打開模式 # 'w' -> 寫入"
   ]
  },
  {
   "cell_type": "code",
   "execution_count": 2,
   "metadata": {},
   "outputs": [],
   "source": [
    "text = '''\n",
    "python與中文\n",
    "1. 我們來試試看中文儲存能力。\n",
    "2. 許這個字會有編碼衝突風險。\n",
    "3. 犇這個字必須是utf8編碼才有。\n",
    "'''\n",
    "file = open('sample1.txt','w',encoding='utf-8')\n",
    "file.write(text)    # 寫入text\n",
    "file.close()    "
   ]
  },
  {
   "cell_type": "code",
   "execution_count": 3,
   "metadata": {},
   "outputs": [],
   "source": [
    "import random\n",
    "\n",
    "students = []   # list\n",
    "for _ in range(50): # _ 通常用來表示一個暫時的變數名稱\n",
    "    scores = [] # 儲存成績 list\n",
    "    for _ in range(5):\n",
    "        scores += [random.randint(50,100)]  \n",
    "        # 隨機產生50~100的數字存進scores list\n",
    "    students.append(scores) \n",
    "    # 將scores加入students list(從最後加入)\n",
    "file = open('students.txt', 'w', encoding='utf-8')\n",
    "file.write(str(students))\n",
    "# 檔案寫入必須要使用字串, 將students list 轉換為 str 寫入\n",
    "# 沒轉str會出錯\n",
    "file.close()"
   ]
  },
  {
   "cell_type": "markdown",
   "metadata": {},
   "source": [
    "## 檔案讀取"
   ]
  },
  {
   "cell_type": "markdown",
   "metadata": {},
   "source": [
    "- read([size])\n",
    "    - 有參數 -> 讀取 size個字, 無參數 -> 讀到文件結束  \n",
    "    - 中, 英, 換行都一格"
   ]
  },
  {
   "cell_type": "code",
   "execution_count": 4,
   "metadata": {},
   "outputs": [
    {
     "name": "stdout",
     "output_type": "stream",
     "text": [
      "python與中文\n",
      "1. 我們來試試看中文儲存能力。\n",
      "2. 許這個字會有編碼衝突風險。\n",
      "3. 犇這個字必須是utf8編碼才有。\n",
      "\n",
      "--------------------------\n",
      "\n",
      "pytho\n"
     ]
    }
   ],
   "source": [
    "file = open('data.txt', 'r', encoding='utf-8')\n",
    "content = file.read() # 無參數,讀全文\n",
    "print(content)\n",
    "\n",
    "print(\"--------------------------\\n\")\n",
    "\n",
    "file = open('data.txt', 'r', encoding='utf-8')\n",
    "content2 = file.read(5) # 讀5個字\n",
    "print(content2)\n",
    "file.close( )"
   ]
  },
  {
   "cell_type": "markdown",
   "metadata": {},
   "source": [
    "## 檔案讀取方式\n",
    "- readlines -> 每次讀一行, 讀到沒資料為止\n",
    "    - 將讀取的內容保存在list\n",
    "    - 佔用緩衝區較小,適合大型文件讀取\n",
    "- 不用readlines\n",
    "    - with (一行一行讀) + for (逐一處理)\n",
    "- len() -> 計算字串長度\n",
    " - strip()   去除字串首尾空白\n",
    "- lstrip()  去除字串左邊空白\n",
    "- rstrip()  去除字串右邊空白\n",
    "- startswith('字元'):   從第幾個字元開始"
   ]
  },
  {
   "cell_type": "code",
   "execution_count": 35,
   "metadata": {},
   "outputs": [
    {
     "name": "stdout",
     "output_type": "stream",
     "text": [
      "['但帕內洛引述杜特蒂的話宣稱，菲律賓決定把台灣納入旅行禁令，跟一中政策「無關」。', '台灣現有武漢肺炎確診病例為18例，中國大陸約6萬例。台灣已多次抱怨世衛把台灣視為中國一部分的作法不公，會誤導其他國家認為台灣疫情跟中國大陸一樣嚴重。', '根據菲律賓總統府發言人帕內洛（Salvador Panelo），杜特蒂（Rodrigo Duterte）表示：「我首要關切的是我國人民的健康和安全。」', '菲律賓拒解除對台旅行禁令 杜特蒂稱無涉一中政策', '菲律賓本週以抑制俗稱武漢肺炎的2019年冠狀病毒疾病（COVID-19）疫情為由，對台實施旅行禁令。台灣當局已表示，若菲方不解除禁令，台灣將考慮反制措施。但杜特蒂仍決定維持禁令。', '路透社報導，由於北京宣稱台灣是中國的一部分，世界衛生組織（WHO）處理疫情資訊時把台灣納入中國，導致若干國家對台灣人實施跟對中國人一樣的限制。', '（中央社台北/馬尼拉13日綜合外電報導）菲律賓總統杜特蒂今天拒絕台灣方面的呼籲，不解除對台灣人實施的旅行禁令。杜特蒂並稱自己首要關切的是菲律賓人的安全，這項決定跟一中政策「無關」。']\n"
     ]
    },
    {
     "data": {
      "text/plain": [
       "467"
      ]
     },
     "execution_count": 35,
     "metadata": {},
     "output_type": "execute_result"
    }
   ],
   "source": [
    "f = open('data1.txt', 'r', encoding='utf-8')\n",
    "result = list() # 建一個空list,儲存資料 #list() -> 把字串轉成字元儲存進list\n",
    "for line in f.readlines():  # for 讀檔案內的每一行\n",
    "    line = line.strip() # 去除每行首尾空白\n",
    "    if not len(line) or line.startswith('#'): # 檢查空字串,開頭是\"#\",如果是 -> 跳過, 不加入result\n",
    "        continue\n",
    "    result.append(line) # 將line資料加入result\n",
    "f.close()\n",
    "result.sort() # 對result內容排序\n",
    "print(result)\n",
    "open('result-readlines.txt', 'w', encoding='utf-8').write('%s' % '\\n'.join(result))\n",
    "# .write() 寫入字串到檔案中的方法\n",
    "# %s (字串)要替換的位置(空的) % 格式化字串 \\n 用在分隔不同行  把result中'%s'(空的) %(替換) '\\n'(換行)\n",
    "# join 把多個字串合併一起 \n",
    "# write('%s' % '\\n'.join(result)) 把字串格式化的條件合併進result"
   ]
  },
  {
   "cell_type": "code",
   "execution_count": 17,
   "metadata": {},
   "outputs": [
    {
     "name": "stdout",
     "output_type": "stream",
     "text": [
      "['h', 'e', 'l', 'l', 'o']\n",
      "list['hello']\n"
     ]
    },
    {
     "data": {
      "text/plain": [
       "[1, 2, 3, 4]"
      ]
     },
     "execution_count": 17,
     "metadata": {},
     "output_type": "execute_result"
    }
   ],
   "source": [
    "py = list(\"hello\")\n",
    "print(py)\n",
    "\n",
    "py1 = list['hello']\n",
    "print(py1)\n",
    "\n",
    "py2 = list(range(1,5))\n",
    "py2"
   ]
  },
  {
   "cell_type": "markdown",
   "metadata": {},
   "source": [
    "## 寫入CSV檔案\n",
    "- import csv\n",
    "- writer() -> 寫入資料\n",
    "    - delimiter 分隔符號\n",
    "    - quotechar 包住字串的符號\n",
    "- writerow() -> 對特定儲存格寫入"
   ]
  },
  {
   "cell_type": "code",
   "execution_count": 38,
   "metadata": {},
   "outputs": [
    {
     "name": "stdout",
     "output_type": "stream",
     "text": [
      "程式結束\n"
     ]
    }
   ],
   "source": [
    "import csv\n",
    "with open('students.csv', 'w', newline = '') as file:\n",
    "# newline = '' -> 不要多空一行,不寫每行之間會多空一行\n",
    "# with open() as file -> 確保檔案在寫入結束後正確關閉, file 打開的檔案的臨時名稱 \n",
    "    csvWriter = csv.writer(file)\n",
    "    csvWriter.writerow(['編號','國文','英文','數學','自然','社會'])\n",
    "    csvWriter.writerow(['01',87,90,56,87,89])\n",
    "    csvWriter.writerow(['02',98,56,78,90,49])\n",
    "print(\"程式結束\")"
   ]
  },
  {
   "cell_type": "code",
   "execution_count": 49,
   "metadata": {},
   "outputs": [
    {
     "name": "stdout",
     "output_type": "stream",
     "text": [
      "程式結束\n"
     ]
    }
   ],
   "source": [
    "import random\n",
    "import csv\n",
    "\n",
    "with open('students.csv','w',newline='') as file:\n",
    "    csvWriter = csv.writer(file) # csv.writer(file)寫入資料到file裡面\n",
    "    csvWriter.writerow(['編號','國文','英文','數學','自然','社會'])\n",
    "    for i in range(50):\n",
    "        scores = [str(i+1)] # 學生編號, 轉換成字串\n",
    "        for _ in range(5):  # _ -> 只生成隨機數值不使用迴圈變數\n",
    "            scores += [random.randint(50,100)]  # 隨機生成50~100的成績\n",
    "        csvWriter.writerow(scores)  # 寫入成績\n",
    "print(\"程式結束\")"
   ]
  },
  {
   "cell_type": "markdown",
   "metadata": {},
   "source": [
    "## 讀取CSV檔案\n",
    "- 資料沒有類型, 全字串\n",
    "- reader() -> 依照每一列的編號讀取, 由0開始\n",
    "- DictReader()\n",
    "    - 以第一列的值為每一行名稱, 第一列不是資料\n",
    "        - fieldnames 沒寫\n",
    "    - 可以重命名, 但第一列必須是資料\n",
    "        - fieldnames = 欄位標題"
   ]
  },
  {
   "cell_type": "code",
   "execution_count": 62,
   "metadata": {},
   "outputs": [
    {
     "name": "stdout",
     "output_type": "stream",
     "text": [
      "<class '_csv.reader'>\n",
      "[['編號', '國文', '英文', '數學', '自然', '社會'], ['1', '80', '83', '72', '80', '92'], ['2', '67', '94', '88', '100', '53'], ['3', '60', '68', '92', '58', '96'], ['4', '96', '59', '65', '66', '52'], ['5', '85', '94', '85', '86', '91'], ['6', '70', '95', '74', '72', '85'], ['7', '67', '86', '51', '87', '67'], ['8', '51', '90', '87', '99', '84'], ['9', '55', '83', '65', '88', '88'], ['10', '87', '74', '93', '51', '71'], ['11', '95', '89', '67', '90', '94'], ['12', '51', '64', '76', '56', '94'], ['13', '86', '86', '66', '77', '89'], ['14', '60', '71', '97', '81', '97'], ['15', '73', '66', '54', '96', '94'], ['16', '89', '99', '67', '71', '61'], ['17', '92', '82', '85', '84', '69'], ['18', '96', '99', '81', '50', '77'], ['19', '53', '83', '67', '91', '60'], ['20', '77', '52', '50', '100', '57'], ['21', '59', '59', '92', '85', '93'], ['22', '98', '53', '70', '60', '82'], ['23', '68', '71', '92', '81', '61'], ['24', '75', '62', '84', '56', '74'], ['25', '97', '70', '64', '100', '73'], ['26', '93', '61', '94', '83', '61'], ['27', '71', '92', '94', '74', '92'], ['28', '57', '58', '86', '83', '65'], ['29', '62', '91', '75', '78', '70'], ['30', '95', '69', '70', '64', '50'], ['31', '79', '85', '95', '55', '92'], ['32', '65', '58', '50', '96', '97'], ['33', '70', '66', '76', '61', '56'], ['34', '84', '62', '61', '51', '81'], ['35', '90', '75', '99', '86', '96'], ['36', '99', '72', '77', '99', '75'], ['37', '52', '89', '75', '69', '63'], ['38', '86', '89', '56', '67', '77'], ['39', '91', '65', '77', '69', '61'], ['40', '72', '92', '80', '52', '55'], ['41', '65', '59', '77', '85', '65'], ['42', '77', '63', '67', '74', '94'], ['43', '92', '69', '90', '63', '66'], ['44', '53', '89', '60', '79', '53'], ['45', '91', '59', '67', '97', '89'], ['46', '71', '78', '84', '97', '78'], ['47', '53', '93', '76', '77', '80'], ['48', '53', '99', '51', '55', '86'], ['49', '60', '77', '91', '77', '76'], ['50', '96', '66', '87', '76', '59']]\n"
     ]
    }
   ],
   "source": [
    "import csv\n",
    "with open('students.csv','r') as file:\n",
    "    rows = csv.reader(file) #read -> list\n",
    "    print(rows.__class__) # 輸出rows的變數類型\n",
    "    studentsList = list(rows) # list(rows) 將讀出來的資料(rows)轉成list\n",
    "    print(studentsList)"
   ]
  },
  {
   "cell_type": "code",
   "execution_count": 13,
   "metadata": {},
   "outputs": [
    {
     "name": "stdout",
     "output_type": "stream",
     "text": [
      "<class '_csv.reader'>\n",
      "[['編號', '國文', '英文', '數學', '自然', '社會'], ['1', '80', '83', '72', '80', '92'], ['2', '67', '94', '88', '100', '53'], ['3', '60', '68', '92', '58', '96'], ['4', '96', '59', '65', '66', '52'], ['5', '85', '94', '85', '86', '91'], ['6', '70', '95', '74', '72', '85'], ['7', '67', '86', '51', '87', '67'], ['8', '51', '90', '87', '99', '84'], ['9', '55', '83', '65', '88', '88'], ['10', '87', '74', '93', '51', '71'], ['11', '95', '89', '67', '90', '94'], ['12', '51', '64', '76', '56', '94'], ['13', '86', '86', '66', '77', '89'], ['14', '60', '71', '97', '81', '97'], ['15', '73', '66', '54', '96', '94'], ['16', '89', '99', '67', '71', '61'], ['17', '92', '82', '85', '84', '69'], ['18', '96', '99', '81', '50', '77'], ['19', '53', '83', '67', '91', '60'], ['20', '77', '52', '50', '100', '57'], ['21', '59', '59', '92', '85', '93'], ['22', '98', '53', '70', '60', '82'], ['23', '68', '71', '92', '81', '61'], ['24', '75', '62', '84', '56', '74'], ['25', '97', '70', '64', '100', '73'], ['26', '93', '61', '94', '83', '61'], ['27', '71', '92', '94', '74', '92'], ['28', '57', '58', '86', '83', '65'], ['29', '62', '91', '75', '78', '70'], ['30', '95', '69', '70', '64', '50'], ['31', '79', '85', '95', '55', '92'], ['32', '65', '58', '50', '96', '97'], ['33', '70', '66', '76', '61', '56'], ['34', '84', '62', '61', '51', '81'], ['35', '90', '75', '99', '86', '96'], ['36', '99', '72', '77', '99', '75'], ['37', '52', '89', '75', '69', '63'], ['38', '86', '89', '56', '67', '77'], ['39', '91', '65', '77', '69', '61'], ['40', '72', '92', '80', '52', '55'], ['41', '65', '59', '77', '85', '65'], ['42', '77', '63', '67', '74', '94'], ['43', '92', '69', '90', '63', '66'], ['44', '53', '89', '60', '79', '53'], ['45', '91', '59', '67', '97', '89'], ['46', '71', '78', '84', '97', '78'], ['47', '53', '93', '76', '77', '80'], ['48', '53', '99', '51', '55', '86'], ['49', '60', '77', '91', '77', '76'], ['50', '96', '66', '87', '76', '59']]\n",
      "[['1', '80', '83', '72', '80', '92'], ['2', '67', '94', '88', '100', '53'], ['3', '60', '68', '92', '58', '96'], ['4', '96', '59', '65', '66', '52'], ['5', '85', '94', '85', '86', '91'], ['6', '70', '95', '74', '72', '85'], ['7', '67', '86', '51', '87', '67'], ['8', '51', '90', '87', '99', '84'], ['9', '55', '83', '65', '88', '88'], ['10', '87', '74', '93', '51', '71'], ['11', '95', '89', '67', '90', '94'], ['12', '51', '64', '76', '56', '94'], ['13', '86', '86', '66', '77', '89'], ['14', '60', '71', '97', '81', '97'], ['15', '73', '66', '54', '96', '94'], ['16', '89', '99', '67', '71', '61'], ['17', '92', '82', '85', '84', '69'], ['18', '96', '99', '81', '50', '77'], ['19', '53', '83', '67', '91', '60'], ['20', '77', '52', '50', '100', '57'], ['21', '59', '59', '92', '85', '93'], ['22', '98', '53', '70', '60', '82'], ['23', '68', '71', '92', '81', '61'], ['24', '75', '62', '84', '56', '74'], ['25', '97', '70', '64', '100', '73'], ['26', '93', '61', '94', '83', '61'], ['27', '71', '92', '94', '74', '92'], ['28', '57', '58', '86', '83', '65'], ['29', '62', '91', '75', '78', '70'], ['30', '95', '69', '70', '64', '50'], ['31', '79', '85', '95', '55', '92'], ['32', '65', '58', '50', '96', '97'], ['33', '70', '66', '76', '61', '56'], ['34', '84', '62', '61', '51', '81'], ['35', '90', '75', '99', '86', '96'], ['36', '99', '72', '77', '99', '75'], ['37', '52', '89', '75', '69', '63'], ['38', '86', '89', '56', '67', '77'], ['39', '91', '65', '77', '69', '61'], ['40', '72', '92', '80', '52', '55'], ['41', '65', '59', '77', '85', '65'], ['42', '77', '63', '67', '74', '94'], ['43', '92', '69', '90', '63', '66'], ['44', '53', '89', '60', '79', '53'], ['45', '91', '59', '67', '97', '89'], ['46', '71', '78', '84', '97', '78'], ['47', '53', '93', '76', '77', '80'], ['48', '53', '99', '51', '55', '86'], ['49', '60', '77', '91', '77', '76'], ['50', '96', '66', '87', '76', '59']]\n",
      "[[1, 80, 83, 72, 80, 92], [2, 67, 94, 88, 100, 53], [3, 60, 68, 92, 58, 96], [4, 96, 59, 65, 66, 52], [5, 85, 94, 85, 86, 91], [6, 70, 95, 74, 72, 85], [7, 67, 86, 51, 87, 67], [8, 51, 90, 87, 99, 84], [9, 55, 83, 65, 88, 88], [10, 87, 74, 93, 51, 71], [11, 95, 89, 67, 90, 94], [12, 51, 64, 76, 56, 94], [13, 86, 86, 66, 77, 89], [14, 60, 71, 97, 81, 97], [15, 73, 66, 54, 96, 94], [16, 89, 99, 67, 71, 61], [17, 92, 82, 85, 84, 69], [18, 96, 99, 81, 50, 77], [19, 53, 83, 67, 91, 60], [20, 77, 52, 50, 100, 57], [21, 59, 59, 92, 85, 93], [22, 98, 53, 70, 60, 82], [23, 68, 71, 92, 81, 61], [24, 75, 62, 84, 56, 74], [25, 97, 70, 64, 100, 73], [26, 93, 61, 94, 83, 61], [27, 71, 92, 94, 74, 92], [28, 57, 58, 86, 83, 65], [29, 62, 91, 75, 78, 70], [30, 95, 69, 70, 64, 50], [31, 79, 85, 95, 55, 92], [32, 65, 58, 50, 96, 97], [33, 70, 66, 76, 61, 56], [34, 84, 62, 61, 51, 81], [35, 90, 75, 99, 86, 96], [36, 99, 72, 77, 99, 75], [37, 52, 89, 75, 69, 63], [38, 86, 89, 56, 67, 77], [39, 91, 65, 77, 69, 61], [40, 72, 92, 80, 52, 55], [41, 65, 59, 77, 85, 65], [42, 77, 63, 67, 74, 94], [43, 92, 69, 90, 63, 66], [44, 53, 89, 60, 79, 53], [45, 91, 59, 67, 97, 89], [46, 71, 78, 84, 97, 78], [47, 53, 93, 76, 77, 80], [48, 53, 99, 51, 55, 86], [49, 60, 77, 91, 77, 76], [50, 96, 66, 87, 76, 59]]\n",
      "[1, 80, 83, 72, 80, 92]\n",
      "程式結束\n"
     ]
    }
   ],
   "source": [
    "import csv\n",
    "with open('students.csv','r') as file:\n",
    "    csvReader = csv.reader(file)\n",
    "    print(csvReader.__class__)\n",
    "    studentsList = list(csvReader)\n",
    "    #print(studentsList)\n",
    "    studentsList.pop(0) #移除list的元素的索引值 #不指定 -> 移除最後一個元素\n",
    "    # pop(0) -> 移除第一個元素\n",
    "    #print(studentsList)\n",
    "    for index in range(len(studentsList)): \n",
    "        student = studentsList[index] \n",
    "        student = list(map(int,student)) \n",
    "        # map -> map object, list(map()) -> map object 轉成 list, \n",
    "        # map(int, student) -> 將student list裡的數字轉成int\n",
    "        studentsList[index] = student \n",
    "print(studentsList)\n",
    "studentIndex = int(input('請輸入學生編號(1-50):'))  #輸入編號,抓出學生資料\n",
    "for student in studentsList:\n",
    "    if studentIndex == student[0]:  #比對輸入編號,student裡的資料是否相同\n",
    "        print(student)\n",
    "        break\n",
    "print(\"程式結束\")\n",
    "\n"
   ]
  },
  {
   "cell_type": "code",
   "execution_count": 11,
   "metadata": {},
   "outputs": [
    {
     "name": "stdout",
     "output_type": "stream",
     "text": [
      "['1', '2', '3']\n"
     ]
    },
    {
     "data": {
      "text/plain": [
       "[1, 2, 3]"
      ]
     },
     "execution_count": 11,
     "metadata": {},
     "output_type": "execute_result"
    }
   ],
   "source": [
    "xs = ['1', '2', '3']\n",
    "print(xs)\n",
    "list(map(int, xs))"
   ]
  },
  {
   "cell_type": "code",
   "execution_count": null,
   "metadata": {},
   "outputs": [],
   "source": [
    "import csv\n",
    "poplist = []\n",
    "f = open('各鄉鎮市區人口密度.csv','r',encoding='UTF-8')\n",
    "csvReader = csv.reader(f) \n",
    "for row in csvReader:\n",
    "    if row[0] == '106':\n",
    "        poplist.append(row) #資料加進去poplist\n",
    "f.close()\n",
    "poplist"
   ]
  },
  {
   "cell_type": "code",
   "execution_count": null,
   "metadata": {},
   "outputs": [],
   "source": [
    "import csv\n",
    "poplist = list()\n",
    "f = open('各鄉鎮市區人口密度.csv','r',encoding = 'UTF-8')\n",
    "next(f) #跳讀下一行 #第一行不要\n",
    "reader = csv.DictReader(f) #DictReader -> dictionary\n",
    "data = [{'統計年':row['統計年'],'區域別':row['區域別'],'年底人口數':row['年底人口數'],'土地面積':row['土地面積'],'人口密度':row['人口密度']} for row in reader] \n",
    "for item in data:\n",
    "    if '新北市' in item['區域別']:\n",
    "        poplist.append(item) \n",
    "poplist"
   ]
  },
  {
   "cell_type": "markdown",
   "metadata": {},
   "source": [
    "## 個股日成交資訊.csv\n",
    "- 轉換為不同的2維list"
   ]
  },
  {
   "cell_type": "code",
   "execution_count": null,
   "metadata": {},
   "outputs": [],
   "source": [
    "import csv\n",
    "with open('個股日成交資訊.csv',encoding='utf-8',newline='') as file:\n",
    "    csv_reader = csv.reader(file)\n",
    "    next(csv_reader)\n",
    "    all_list = []\n",
    "    for item in csv_reader:\n",
    "        all_list.append([item[0],item[1],item[2],item[3],item[7],item[8],item[9]]) #只選取需要的資料加入\n",
    "all_list"
   ]
  },
  {
   "cell_type": "code",
   "execution_count": null,
   "metadata": {},
   "outputs": [],
   "source": [
    "import csv\n",
    "with open('個股日成交資訊.csv',encoding='utf-8',newline='') as file:\n",
    "    csv_reader = csv.reader(file)\n",
    "    next(csv_reader)\n",
    "    all_list = [[item[0],item[1],item[2],item[3],item[7],item[8],item[9]] for item in csv_reader] #和上一個相同,只是不同寫法\n",
    "all_list"
   ]
  },
  {
   "cell_type": "code",
   "execution_count": null,
   "metadata": {},
   "outputs": [],
   "source": [
    "import csv\n",
    "with open('個股日成交資訊.csv',encoding='utf-8',newline='') as file:\n",
    "    csv_reader = csv.reader(file)\n",
    "    next(csv_reader)\n",
    "    all_list = [{'證券代號':item[0],\n",
    "                 '證券名稱':item[1],\n",
    "                 '成交股數':item[2],\n",
    "                 '成交金額':item[3],\n",
    "                 '收盤價':item[7],\n",
    "                 '漲跌價差':item[8],\n",
    "                 '成交筆數':item[9]} for item in csv_reader] #存成dict\n",
    "all_list"
   ]
  },
  {
   "cell_type": "code",
   "execution_count": null,
   "metadata": {},
   "outputs": [],
   "source": [
    "import csv\n",
    "with open('個股日成交資訊.csv',encoding='utf-8',newline='') as file:\n",
    "    fields = ['證券代號','證券名稱','成交股數','成交金額','開盤價','最高價','最低價']\n",
    "    csv_dictReader = csv.DictReader(file,fieldnames=fields,restkey=\"不要的\")\n",
    "    #csv.DictReader(f,fieldnames(欄位名) = None(預設), restkey = None(預設))\n",
    "    #前面有指定只要前七個欄位的資料,後面的欄位 -> restkey\n",
    "    head_row = next(csv_dictReader)\n",
    "    #print(head_row)\n",
    "    for row in csv_dictReader:\n",
    "        print(row)"
   ]
  },
  {
   "cell_type": "markdown",
   "metadata": {},
   "source": [
    "## Python -> JSON\n",
    "- json.dumps(obj, ensure_ascii = True)\n",
    "    - 從Python dictionary 轉出 JSON [字串]\n",
    "- json.dump(obj, fp, ensure_ascii = True)\n",
    "    - 從Python dictionary 轉出 JSON [檔案]中\n",
    "- 正確處理utf8碼內容 -> json.dumps(ensure_ascii = False)\n",
    "    - ensure_ascii (預設TRUE)\n",
    "        - TRUE    ->  輸出對所有傳入非ASCII字元轉譯\n",
    "        - False   ->  會原樣輸出"
   ]
  },
  {
   "cell_type": "code",
   "execution_count": 12,
   "metadata": {},
   "outputs": [
    {
     "name": "stdout",
     "output_type": "stream",
     "text": [
      "<class 'str'>\n",
      "<class 'bytes'>\n",
      "{\"python\": \"good\", \"gjun\": 100, \"python-class\": true, \"ICQ\": null}\n",
      "b'{\"python\": \"good\", \"gjun\": 100, \"python-class\": true, \"ICQ\": null}'\n"
     ]
    }
   ],
   "source": [
    "# dictionary 轉成 json 格式字串\n",
    "import json\n",
    "pyDic = {'python':'good', 'gjun':100, 'python-class':True, 'ICQ':None}\n",
    "json2 = json.dumps(pyDic, ensure_ascii=False)\n",
    "print(type(json2))\n",
    "json3 = json2.encode('utf-8') #轉成utf-8編碼 #str透過encode()轉成bytes\n",
    "print(type(json3))\n",
    "print(json2)\n",
    "print(json3)"
   ]
  },
  {
   "cell_type": "code",
   "execution_count": 14,
   "metadata": {},
   "outputs": [
    {
     "name": "stdout",
     "output_type": "stream",
     "text": [
      "<class 'dict'>\n",
      "<class 'str'>\n",
      "json檔案存檔完成\n"
     ]
    }
   ],
   "source": [
    "# json字串存成檔案\n",
    "import json\n",
    "codes = {'tw':'Taiwan', 'jp':'Japan', 'hk':'HongKong', 'us':'美國'}\n",
    "print(codes.__class__)\n",
    "jsonStr = json.dumps(codes,ensure_ascii=False) #dumps 字串\n",
    "print(jsonStr.__class__)\n",
    "\n",
    "with open('codes.json','w',encoding='utf-8') as file:\n",
    "    file.write(jsonStr)\n",
    "print(\"json檔案存檔完成\")\n"
   ]
  },
  {
   "cell_type": "code",
   "execution_count": 22,
   "metadata": {},
   "outputs": [
    {
     "name": "stdout",
     "output_type": "stream",
     "text": [
      "json檔案存檔完成\n"
     ]
    }
   ],
   "source": [
    "# dictionary 直接轉 json 檔案\n",
    "import json\n",
    "codes = {'tw':'Taiwan', 'jp':'Japan', 'hk':'HongKong', 'us':'美國'}\n",
    "with open('codes1.json','w',encoding='utf-8') as file:\n",
    "    json.dump(codes,file,ensure_ascii=False) #dump 檔案\n",
    "print(\"json檔案存檔完成\")"
   ]
  },
  {
   "cell_type": "code",
   "execution_count": 23,
   "metadata": {},
   "outputs": [],
   "source": [
    "import json\n",
    "data = {}\n",
    "data['people'] = []\n",
    "data['people'].append({'name':'Scott','website':'stackabuse.com','from':'Nebraska'})\n",
    "data['people'].append({'name':'Larry','website':'google.com','from':'Michigan'})\n",
    "with open('data.json','w') as outfile:\n",
    "    json.dump(data, outfile)\n",
    "json2 = json.dumps(data)\n",
    "file = open('score.json','w',encoding='utf-8')\n",
    "file.write((json2))\n",
    "file.close()"
   ]
  },
  {
   "cell_type": "code",
   "execution_count": 26,
   "metadata": {},
   "outputs": [
    {
     "name": "stdout",
     "output_type": "stream",
     "text": [
      "json存檔成功\n"
     ]
    }
   ],
   "source": [
    "import random\n",
    "students = []\n",
    "for i in range(1,51):\n",
    "    stdDict = {'姓名':'stu' + str(i),\n",
    "               '國文':random.randint(50,100),\n",
    "               '英文':random.randint(50,100),\n",
    "               '數學':random.randint(50,100),\n",
    "               '自然':random.randint(50,100),\n",
    "               '社會':random.randint(50,100)}\n",
    "    students.append(stdDict)\n",
    "\n",
    "import json\n",
    "with open('students.json','w',encoding='utf-8') as file:\n",
    "    json.dump(students, file, ensure_ascii=False)\n",
    "print(\"json存檔成功\")"
   ]
  },
  {
   "cell_type": "markdown",
   "metadata": {},
   "source": [
    "## JSON -> Python\n",
    "- json.loads(s)\n",
    "    - 從JSON字串中取出資料轉入Python\n",
    "- json.load(fp)\n",
    "    - 從JSON檔案中取出資料轉入Python"
   ]
  },
  {
   "cell_type": "code",
   "execution_count": null,
   "metadata": {},
   "outputs": [],
   "source": [
    "import json\n",
    "with open('students.json','r',encoding='utf-8') as file:\n",
    "    students = json.load(file) #load -> json檔案中取資料\n",
    "students"
   ]
  },
  {
   "cell_type": "code",
   "execution_count": 28,
   "metadata": {},
   "outputs": [
    {
     "name": "stdout",
     "output_type": "stream",
     "text": [
      "{'python': 'good', 'gjun': 100, 'python-class': True, 'ICQ': None}\n"
     ]
    }
   ],
   "source": [
    "# 使用Loads將json字串傳成python Dict\n",
    "import json\n",
    "json1 = '{\"python\":\"good\",\"gjun\":100,\"python-class\":true,\"ICQ\":null}'\n",
    "json2 = json.loads(json1)   #loads -> json字串中取資料\n",
    "print(json2)"
   ]
  },
  {
   "cell_type": "code",
   "execution_count": 35,
   "metadata": {},
   "outputs": [
    {
     "name": "stdout",
     "output_type": "stream",
     "text": [
      "Name: Scott\n",
      "Website: stackabuse.com\n",
      "From: Nebraska\n",
      "\n",
      "Name: Larry\n",
      "Website: google.com\n",
      "From: Michigan\n",
      "\n"
     ]
    }
   ],
   "source": [
    "# 使用Load()將json檔轉成Dictionary\n",
    "import json\n",
    "with open('score.json') as json_file:\n",
    "    data = json.load(json_file)\n",
    "    for p in data['people']: #一行一行讀data['people']的內容\n",
    "        print('Name: ' + p['name']) #抓到'name'輸出\n",
    "        print('Website: ' + p['website']) #抓到'website'輸出\n",
    "        print('From: '+p['from']) #抓到'from'輸出\n",
    "        print()"
   ]
  },
  {
   "cell_type": "code",
   "execution_count": null,
   "metadata": {},
   "outputs": [],
   "source": [
    "import json\n",
    "with open('新北市公共自行車租賃系統.json',encoding='utf-8') as json_file:\n",
    "    data = json.load(json_file)\n",
    "    if data['success']: #success == 'True'\n",
    "        records = data['result']['records'] #將data裡面的result中的records的內容存入records中\n",
    "        #print(records)\n",
    "    else:\n",
    "        print(\"讀取失敗\")\n",
    "\n",
    "for record in records:\n",
    "    if '新店區' in record['sarea']:\n",
    "        print('區域',record['sarea'])\n",
    "        print('站名',record['sna'])\n",
    "        print('地址',record['ar'])\n",
    "        print('經緯度座標 [{},{}]'.format(record['lat'],record['lng'])) #格式化, 第一個{} 替換成-> 'lat', 第二個{} 替換成-> 'lng'\n",
    "        print('全部數量',record['tot'])\n",
    "        print('可借',record['sbi'])\n",
    "        print('可還',record['bemp'])\n",
    "        print('-------------------------')\n",
    "        print()"
   ]
  },
  {
   "cell_type": "markdown",
   "metadata": {},
   "source": [
    "## 下載 + 解析 JSON, 轉存CSV\n"
   ]
  },
  {
   "cell_type": "code",
   "execution_count": 1,
   "metadata": {},
   "outputs": [
    {
     "name": "stdout",
     "output_type": "stream",
     "text": [
      "下載成功\n",
      "下載完畢\n"
     ]
    }
   ],
   "source": [
    "import requests\n",
    "import csv\n",
    "\n",
    "def download_weather():\n",
    "    url = 'https://opendata.cwb.gov.tw/fileapi/v1/opendataapi/F-C0032-001?Authorization=rdec-key-123-45678-011121314&format=JSON'\n",
    "\n",
    "    response = requests.get(url)\n",
    "    if response.status_code == 200:\n",
    "        print(\"下載成功\")\n",
    "        weather = response.json()\n",
    "        return weather\n",
    "    else:\n",
    "        print(\"下載失敗\")\n",
    "        return False\n",
    "    \n",
    "def parse_json(w):\n",
    "    location = w['cwaopendata']['dataset']['location']\n",
    "    weather_list = []\n",
    "    for item in location:\n",
    "        city_item = {}\n",
    "        city_item['城市'] = item['locationName']\n",
    "        city_item['起始時間'] = item['weatherElement'][1]['time'][0]['startTime']\n",
    "        city_item['結束時間'] = item['weatherElement'][1]['time'][0]['endTime']\n",
    "        city_item['最高溫度'] = float(item['weatherElement'][1]['time'][0]['parameter']['parameterName'])\n",
    "        city_item['最低溫度'] = float(item['weatherElement'][1]['time'][0]['parameter']['parameterName'])\n",
    "        city_item['感覺'] = item['weatherElement'][3]['time'][0]['parameter']['parameterName']\n",
    "        weather_list.append(city_item)\n",
    "    return weather_list\n",
    "\n",
    "def save_csv(data):\n",
    "    with open('目前天氣.csv','w',newline='') as file:\n",
    "        fieldnames = ['城市', '起始時間', '結束時間', '最高溫度', '最低溫度', '感覺']\n",
    "        writer = csv.DictWriter(file, fieldnames = fieldnames)\n",
    "        writer.writeheader()\n",
    "        writer.writerows(data)\n",
    "\n",
    "def main():\n",
    "    weather = download_weather()\n",
    "\n",
    "    if weather != False:\n",
    "        print(\"下載完畢\")\n",
    "    else:\n",
    "        print(\"應用程式下載失敗\")\n",
    "        return\n",
    "    \n",
    "    csv_data = parse_json(weather)\n",
    "    save_csv(csv_data)\n",
    "\n",
    "if __name__ == '__main__':\n",
    "    main()"
   ]
  },
  {
   "cell_type": "markdown",
   "metadata": {},
   "source": [
    "## 檔案存取與例外處理\n",
    "- 文件存取 open()\n",
    "    - 不存在或讀存取權限限制會產生例外\n",
    "- 檔案存取例外為 IOError, 兩個子類別\n",
    "    - FileNotFoundError 找不到檔案\n",
    "    - PermissionError 沒有權限存取"
   ]
  },
  {
   "cell_type": "code",
   "execution_count": 7,
   "metadata": {},
   "outputs": [
    {
     "name": "stdout",
     "output_type": "stream",
     "text": [
      "python與中文\n",
      "1. 我們來試試看中文儲存能力。\n",
      "2. 許這個字會有編碼衝突風險。\n",
      "3. 犇這個字必須是utf8編碼才有。\n",
      "\n"
     ]
    }
   ],
   "source": [
    "try:\n",
    "    file = open('data.txt','r',encoding='utf-8')\n",
    "    print(file.read())\n",
    "\n",
    "except FileNotFoundError:\n",
    "    print('找不到檔案')\n",
    "except PermissionError:\n",
    "    print('你沒有權限存取')\n",
    "except IOError:\n",
    "    print(\"其他檔案IO問題\")\n",
    "except:\n",
    "    print(\"其他例外\")\n",
    "\n",
    "file.close()"
   ]
  },
  {
   "cell_type": "markdown",
   "metadata": {},
   "source": [
    "## 檔案關閉\n",
    "- 檔案開啟後須關閉 close()\n",
    "- 沒關閉會造成：\n",
    "    - 開啟文件占用系統資源\n",
    "    - Python可同時開啟文件數量限制(約20份文件)\n",
    "    - 開啟文件若'w'/'a',一般暫存緩衝區,系統閒置或文件關閉才寫入,沒有進行close()動作可能造成文件儲存不完整"
   ]
  },
  {
   "cell_type": "code",
   "execution_count": 10,
   "metadata": {},
   "outputs": [
    {
     "name": "stdout",
     "output_type": "stream",
     "text": [
      "success\n"
     ]
    }
   ],
   "source": [
    "import os\n",
    "\n",
    "class tryopenfile:\n",
    "    def openfile(self, filePath):\n",
    "        self.handle = open(filePath, 'w')\n",
    "        self.handle.close()\n",
    "\n",
    "if __name__ == '__main__':\n",
    "    t = tryopenfile()\n",
    "    filePath = 'test.txt'\n",
    "    t.openfile(filePath)\n",
    "    os.remove(filePath) #系統刪除檔案\n",
    "    print('success')"
   ]
  },
  {
   "cell_type": "markdown",
   "metadata": {},
   "source": [
    "## With\n",
    "- 多個檔案存取若前個檔案產生IO例外, 後面無法進行close()動作\n",
    "- 存取仍可能產生IO例外\n",
    "- 離開with區塊檔案會自動close(),關閉檔案"
   ]
  },
  {
   "cell_type": "code",
   "execution_count": 32,
   "metadata": {},
   "outputs": [
    {
     "name": "stdout",
     "output_type": "stream",
     "text": [
      "python與中文\n",
      "1. 我們來試試看中文儲存能力。\n",
      "2. 許這個字會有編碼衝突風險。\n",
      "3. 犇這個字必須是utf8編碼才有。\n",
      "\n"
     ]
    }
   ],
   "source": [
    "try:\n",
    "    with open('data.txt','r',encoding = 'utf-8') as file:\n",
    "        print(file.read())\n",
    "except FileNotFoundError:\n",
    "    print(\"找不到檔案\")\n",
    "except PermissionError:\n",
    "    print(\"你沒有權限存取\")\n",
    "except IOError:\n",
    "    print(\"其他檔案IO問題\")\n",
    "except:\n",
    "    print(\"其他例外\")"
   ]
  },
  {
   "cell_type": "markdown",
   "metadata": {},
   "source": [
    "請問以下的問題答案為哪一個?(選擇題)\n",
    "\n",
    "關於 with 方式操作檔案的說明，哪一個是錯誤的? 3\n",
    "\n",
    "(1) 離開 with 區塊時檔案將會自動進行 close( ) 動作，自動關閉檔案。\n",
    "\n",
    "(2) 檔案存取仍有可能產生 IO 例外。\n",
    "\n",
    "(3) 檔案存取不會產生 IO 例外。"
   ]
  }
 ],
 "metadata": {
  "kernelspec": {
   "display_name": ".venv",
   "language": "python",
   "name": "python3"
  },
  "language_info": {
   "codemirror_mode": {
    "name": "ipython",
    "version": 3
   },
   "file_extension": ".py",
   "mimetype": "text/x-python",
   "name": "python",
   "nbconvert_exporter": "python",
   "pygments_lexer": "ipython3",
   "version": "3.10.8"
  },
  "orig_nbformat": 4
 },
 "nbformat": 4,
 "nbformat_minor": 2
}
