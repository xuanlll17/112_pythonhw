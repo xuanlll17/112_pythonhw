{
 "cells": [
  {
   "cell_type": "code",
   "execution_count": 2,
   "metadata": {},
   "outputs": [
    {
     "name": "stdout",
     "output_type": "stream",
     "text": [
      "連線成功\n",
      "<connection object at 0x000001AD95870AE0; dsn: 'user=xuan password=xxx dbname=maindb_fi6n host=dpg-cl5g4pc72pts73elkt70-a.singapore-postgres.render.com port=5432', closed: 0>\n"
     ]
    }
   ],
   "source": [
    "import psycopg2\n",
    "import password as pw\n",
    "import csv\n",
    "\n",
    "#-----------------連線到postgresql-----------------#\n",
    "try:\n",
    "    conn = psycopg2.connect(database=pw.DATABASE, user=pw.USER, \n",
    "                            password=pw.PASSWORD, host=pw.HOST, \n",
    "                            port=\"5432\")\n",
    "except psycopg2.Error as e:\n",
    "    print('error')\n",
    "    print(e)\n",
    "else:\n",
    "    print('連線成功')\n",
    "    print(conn)\n",
    "\n",
    "\t\n",
    "cur = conn.cursor()\n",
    "table_name = '台北市youbike(站點名稱, 更新時間, 行政區, 地址, 總車輛數, 可借, 可還)'\n",
    "csv_file = './youbike.csv'\n",
    "with open(csv_file, 'r', encoding='utf-8') as file:\n",
    "    reader = csv.reader(file)\n",
    "\n",
    "    for row in reader:\n",
    "        placeholders = ', '.join(['%s'] * len(row))\n",
    "        insert_query = f\"INSERT INTO {table_name} VALUES ({placeholders})\"\n",
    "        cur.execute(insert_query, row)\n",
    "\n",
    "conn.commit()\n",
    "\n",
    "cur.close()\n",
    "conn.close()\n",
    "\t\t"
   ]
  }
 ],
 "metadata": {
  "kernelspec": {
   "display_name": ".venv",
   "language": "python",
   "name": "python3"
  },
  "language_info": {
   "codemirror_mode": {
    "name": "ipython",
    "version": 3
   },
   "file_extension": ".py",
   "mimetype": "text/x-python",
   "name": "python",
   "nbconvert_exporter": "python",
   "pygments_lexer": "ipython3",
   "version": "3.10.8"
  }
 },
 "nbformat": 4,
 "nbformat_minor": 2
}
