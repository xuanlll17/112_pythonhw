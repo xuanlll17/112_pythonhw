{
 "cells": [
  {
   "cell_type": "code",
   "execution_count": 2,
   "metadata": {},
   "outputs": [
    {
     "name": "stdout",
     "output_type": "stream",
     "text": [
      "連線成功\n",
      "<connection object at 0x000001AF36F46680; dsn: 'user=xuan password=xxx dbname=maindb_fi6n host=dpg-cl5g4pc72pts73elkt70-a.singapore-postgres.render.com port=5432', closed: 0>\n"
     ]
    }
   ],
   "source": [
    "import psycopg2\n",
    "import password as pw\n",
    "import csv\n",
    "\n",
    "#-------------------連線到postgresql-----------------#\n",
    "try:\n",
    "    conn = psycopg2.connect(\n",
    "        database=pw.DATABASE,\n",
    "        user=pw.USER,\n",
    "        password=pw.PASSWORD,\n",
    "        host=pw.HOST,\n",
    "        port=\"5432\",\n",
    "    )\n",
    "except psycopg2.Error as e:\n",
    "    print(\"error\")\n",
    "    print(e)\n",
    "else:\n",
    "    print(\"連線成功\")\n",
    "    print(conn)\n",
    "\n",
    "#--------------insert data to postgresql------------#\n",
    "sql = \"\"\"\n",
    "        INSERT INTO 台北市youbike(站點名稱,行政區,更新時間,地址,總車輛數,可借,可還)\n",
    "        VALUES(%s,%s,%s,%s,%s,%s,%s)\n",
    "    \"\"\"\n",
    "with conn.cursor() as cur:\n",
    "    with open(\"youbike.csv\", \"r\", encoding=\"utf-8\") as file:\n",
    "        reader = csv.reader(file)\n",
    "        for row in reader:\n",
    "            cur.execute(sql, row)\n",
    "    conn.commit()\n",
    "\n",
    "conn.close()"
   ]
  },
  {
   "cell_type": "code",
   "execution_count": 16,
   "metadata": {},
   "outputs": [
    {
     "name": "stdout",
     "output_type": "stream",
     "text": [
      "連線成功\n",
      "<connection object at 0x0000025B7AA45CF0; dsn: 'user=xuan password=xxx dbname=maindb_fi6n host=dpg-cl5g4pc72pts73elkt70-a.singapore-postgres.render.com port=5432', closed: 0>\n"
     ]
    }
   ],
   "source": [
    "import psycopg2\n",
    "import password as pw\n",
    "import csv\n",
    "\n",
    "#------------------連線到postgresql-----------------#\n",
    "try:\n",
    "    conn = psycopg2.connect(\n",
    "        database=pw.DATABASE,\n",
    "        user=pw.USER,\n",
    "        password=pw.PASSWORD,\n",
    "        host=pw.HOST,\n",
    "        port=\"5432\",\n",
    "    )\n",
    "except psycopg2.Error as e:\n",
    "    print(\"error\")\n",
    "    print(e)\n",
    "else:\n",
    "    print(\"連線成功\")\n",
    "    print(conn)\n",
    "\n",
    "\n",
    "cur = conn.cursor()\n",
    "table_name = '台北市youbike(站點名稱, 更新時間, 行政區, 地址, 總車輛數, 可借, 可還)'\n",
    "\n",
    "with open('youbike.csv', 'r', encoding='utf-8') as file:\n",
    "    reader = csv.reader(file)\n",
    "\n",
    "    for row in reader:\n",
    "        csv_data = ', '.join(['%s'] * len(row))\n",
    "        insert_data = f'INSERT INTO {table_name} VALUES ({csv_data})'\n",
    "        cur.execute(insert_data, row)\n",
    "\n",
    "conn.commit()\n",
    "\n",
    "cur.close()\n",
    "conn.close()"
   ]
  },
  {
   "cell_type": "code",
   "execution_count": null,
   "metadata": {},
   "outputs": [],
   "source": [
    "csv_data = \", \".join(['%s'] * len(row))  #-> '%s, %s, %s, %s, %s, %s, %s'\n",
    "# len(row) -> 計算csv每行資料的欄位數\n",
    "# join -> '%s' 重複 len(row)[這裡是7] 次數, ', ' -> 用逗號分隔"
   ]
  },
  {
   "cell_type": "code",
   "execution_count": null,
   "metadata": {},
   "outputs": [],
   "source": [
    "csv_data = \", \".join([\"%s\"] * len(row))\n",
    "# .join() -> 將列表中的元素連接成一個字符串, 將列表['%s','%s','%s',...]的元素用','連接起來\n",
    "# EX: ['YouBike2.0_一壽橋', '2023-11-08 10:43:16', '文山區', '樟新街64號前方', '16', '1', '15'] 使用['%s']*len(row) -> ['%s','%s','%s','%s','%s','%s','%s']\n",
    "# .join() -> 將list中的元素以', '連接起來 -> %s, %s, %s, %s, %s, %s, %s\n",
    "# csv_data -> %s, %s, %s, %s, %s, %s, %s, %s -> 佔位符(字串), 可以以其他值替代佔位符"
   ]
  }
 ],
 "metadata": {
  "kernelspec": {
   "display_name": ".venv",
   "language": "python",
   "name": "python3"
  },
  "language_info": {
   "codemirror_mode": {
    "name": "ipython",
    "version": 3
   },
   "file_extension": ".py",
   "mimetype": "text/x-python",
   "name": "python",
   "nbconvert_exporter": "python",
   "pygments_lexer": "ipython3",
   "version": "3.10.8"
  }
 },
 "nbformat": 4,
 "nbformat_minor": 2
}
