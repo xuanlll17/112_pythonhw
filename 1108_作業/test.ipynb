{
 "cells": [
  {
   "cell_type": "code",
   "execution_count": 1,
   "metadata": {},
   "outputs": [],
   "source": [
    "import psycopg2\n",
    "import password as pw\n",
    "import csv"
   ]
  },
  {
   "cell_type": "code",
   "execution_count": 7,
   "metadata": {},
   "outputs": [
    {
     "name": "stdout",
     "output_type": "stream",
     "text": [
      "連線成功\n",
      "<connection object at 0x0000013CF4E35AD0; dsn: 'user=xuan password=xxx dbname=maindb_fi6n host=dpg-cl5g4pc72pts73elkt70-a.singapore-postgres.render.com port=5432', closed: 0>\n"
     ]
    }
   ],
   "source": [
    "# -----------------連線到postgresql-----------------#\n",
    "try:\n",
    "    conn = psycopg2.connect(\n",
    "        database=pw.DATABASE,\n",
    "        user=pw.USER,\n",
    "        password=pw.PASSWORD,\n",
    "        host=pw.HOST,\n",
    "        port=\"5432\",\n",
    "    )\n",
    "except psycopg2.Error as e:\n",
    "    print(\"error\")\n",
    "    print(e)\n",
    "else:\n",
    "    print(\"連線成功\")\n",
    "    print(conn)"
   ]
  },
  {
   "cell_type": "code",
   "execution_count": 6,
   "metadata": {},
   "outputs": [],
   "source": [
    "sql = \"\"\"\n",
    "        INSERT INTO test(站點名稱,行政區,更新時間,地址,總車輛數,可借,可還)\n",
    "        VALUES(%s,%s,%s,%s,%s,%s,%s)\n",
    "    \"\"\"\n",
    "with conn.cursor() as cur:\n",
    "    with open(\"youbike.csv\", \"r\", encoding=\"utf-8\") as file:\n",
    "        reader = csv.reader(file)\n",
    "\n",
    "        for row in reader:\n",
    "            cur.execute(sql, row)\n",
    "        \n",
    "    conn.commit()\n",
    "\n",
    "conn.close()"
   ]
  }
 ],
 "metadata": {
  "kernelspec": {
   "display_name": ".venv",
   "language": "python",
   "name": "python3"
  },
  "language_info": {
   "codemirror_mode": {
    "name": "ipython",
    "version": 3
   },
   "file_extension": ".py",
   "mimetype": "text/x-python",
   "name": "python",
   "nbconvert_exporter": "python",
   "pygments_lexer": "ipython3",
   "version": "3.10.8"
  }
 },
 "nbformat": 4,
 "nbformat_minor": 2
}
