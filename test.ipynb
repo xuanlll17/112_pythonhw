{
 "cells": [
  {
   "cell_type": "code",
   "execution_count": 10,
   "metadata": {},
   "outputs": [
    {
     "name": "stdout",
     "output_type": "stream",
     "text": [
      "下載成功\n"
     ]
    }
   ],
   "source": [
    "import requests\n",
    "import json\n",
    "import key\n",
    "def __download_aqi_data()->list[dict]:\n",
    "    aqi_url = f'https://data.moenv.gov.tw/api/v2/aqx_p_07?formate=json&api_key={key.key}'\n",
    "    response = requests.get(aqi_url)\n",
    "    response.raise_for_status()\n",
    "    print('下載成功')\n",
    "    data = response.json()\n",
    "    #print(data)\n",
    "    with open('data.json','w', encoding='utf-8') as file:\n",
    "        json.dump(data['records'],file,ensure_ascii=False)\n",
    "\n",
    "__download_aqi_data()"
   ]
  }
 ],
 "metadata": {
  "kernelspec": {
   "display_name": ".venv",
   "language": "python",
   "name": "python3"
  },
  "language_info": {
   "codemirror_mode": {
    "name": "ipython",
    "version": 3
   },
   "file_extension": ".py",
   "mimetype": "text/x-python",
   "name": "python",
   "nbconvert_exporter": "python",
   "pygments_lexer": "ipython3",
   "version": "3.10.8"
  }
 },
 "nbformat": 4,
 "nbformat_minor": 2
}
