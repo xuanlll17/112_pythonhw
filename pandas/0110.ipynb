{
 "cells": [
  {
   "cell_type": "markdown",
   "metadata": {},
   "source": [
    "# pandas"
   ]
  },
  {
   "cell_type": "code",
   "execution_count": 1,
   "metadata": {},
   "outputs": [],
   "source": [
    "import pandas as pd"
   ]
  },
  {
   "cell_type": "markdown",
   "metadata": {},
   "source": [
    "### Series\n",
    "- pd.Series(data)\n",
    "- 類一維陣列(相似numpy)，包含對應資料的索引符號(index)"
   ]
  },
  {
   "cell_type": "code",
   "execution_count": 16,
   "metadata": {},
   "outputs": [
    {
     "name": "stdout",
     "output_type": "stream",
     "text": [
      "0    4\n",
      "1    7\n",
      "2   -5\n",
      "3    3\n",
      "dtype: int64\n",
      "RangeIndex(start=0, stop=4, step=1)\n"
     ]
    },
    {
     "data": {
      "text/plain": [
       "array([ 4,  7, -5,  3], dtype=int64)"
      ]
     },
     "execution_count": 16,
     "metadata": {},
     "output_type": "execute_result"
    }
   ],
   "source": [
    "obj = pd.Series([4, 7, -5, 3])\n",
    "print(obj)  # 輸出index和value(值),沒有指定索引會採用 0 ~ N-1 的值(N -> 資料長度)\n",
    "\n",
    "# 使用index屬性取出index物件\n",
    "print(obj.index)\n",
    "\n",
    "# 使用values屬性取出numpy的ndarray\n",
    "# .values -> 取得obj的value,不包含index(傳回numpy.ndarray)\n",
    "obj.values"
   ]
  },
  {
   "cell_type": "code",
   "execution_count": 36,
   "metadata": {},
   "outputs": [
    {
     "name": "stdout",
     "output_type": "stream",
     "text": [
      "d    4\n",
      "b    7\n",
      "a   -5\n",
      "c    3\n",
      "dtype: int64\n",
      "Index(['d', 'b', 'a', 'c'], dtype='object')\n",
      "修改前：-5\n",
      "修改後：3\n",
      "\n",
      "修改後：\n",
      "d    6\n",
      "b    7\n",
      "a    3\n",
      "c    3\n",
      "dtype: int64\n"
     ]
    },
    {
     "data": {
      "text/plain": [
       "c    3\n",
       "a    3\n",
       "d    6\n",
       "dtype: int64"
      ]
     },
     "execution_count": 36,
     "metadata": {},
     "output_type": "execute_result"
    }
   ],
   "source": [
    "# 自訂Series索引的label(pd.Series(data,index=))\n",
    "obj2 = pd.Series([4, 7, -5, 3], index=[\"d\", \"b\", \"a\", \"c\"])\n",
    "print(obj2)\n",
    "\n",
    "# 使用index屬性取出索引物件\n",
    "print(obj2.index)\n",
    "\n",
    "# 可以使用索引的label取值\n",
    "print(f\"修改前：{obj2['a']}\")\n",
    "\n",
    "# 修改值\n",
    "obj2['a'] = 3\n",
    "print(f\"修改後：{obj2['a']}\")\n",
    "obj2['d'] = 6\n",
    "print(f\"\\n修改後：\\n{obj2}\")\n",
    "\n",
    "# 使用list取出多值\n",
    "obj2[['c', 'a', 'd']]"
   ]
  },
  {
   "cell_type": "code",
   "execution_count": null,
   "metadata": {},
   "outputs": [],
   "source": []
  }
 ],
 "metadata": {
  "kernelspec": {
   "display_name": ".venv",
   "language": "python",
   "name": "python3"
  },
  "language_info": {
   "codemirror_mode": {
    "name": "ipython",
    "version": 3
   },
   "file_extension": ".py",
   "mimetype": "text/x-python",
   "name": "python",
   "nbconvert_exporter": "python",
   "pygments_lexer": "ipython3",
   "version": "3.10.8"
  }
 },
 "nbformat": 4,
 "nbformat_minor": 2
}
