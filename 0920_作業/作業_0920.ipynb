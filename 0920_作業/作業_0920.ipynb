{
 "cells": [
  {
   "cell_type": "markdown",
   "metadata": {},
   "source": [
    "# 作業1\n",
    "![Alt text](image-1.png)"
   ]
  },
  {
   "cell_type": "code",
   "execution_count": 1,
   "metadata": {},
   "outputs": [
    {
     "name": "stdout",
     "output_type": "stream",
     "text": [
      "請輸入身高,單位為(公分):180\n",
      "請輸入體重,單位為(公斤):60\n",
      "您的BMI是18.51852\n",
      "您的體重正常\n"
     ]
    }
   ],
   "source": [
    "import pyinputplus as pyip\n",
    "height = pyip.inputInt(\"請輸入身高,單位為(公分):\")\n",
    "print(height)\n",
    "weight = pyip.inputInt(\"請輸入體重,單位為(公斤):\")\n",
    "print(weight)\n",
    "bmi = round(weight/((height/100)**2),ndigits=5)\n",
    "print(f\"您的BMI是{bmi}\")\n",
    "message = \"\"\n",
    "if bmi > 30:\n",
    "    message = \"您的體重肥胖\"\n",
    "elif 25 < bmi <=30:\n",
    "    message = \"您的體重過重\"\n",
    "elif 18.5 <= bmi <=25:\n",
    "    message = \"您的體重正常\"\n",
    "else:\n",
    "    message = \"您的體重太輕\"\n",
    "print(message)"
   ]
  },
  {
   "cell_type": "markdown",
   "metadata": {},
   "source": [
    "# 作業2\n",
    "![Alt text](image.png)"
   ]
  },
  {
   "cell_type": "code",
   "execution_count": 16,
   "metadata": {},
   "outputs": [
    {
     "name": "stdout",
     "output_type": "stream",
     "text": [
      "請輸入收縮壓:140\n",
      "請輸入舒張壓:89\n",
      "高血壓一期\n"
     ]
    }
   ],
   "source": [
    "import pyinputplus as pyip\n",
    "sbp = pyip.inputInt(\"請輸入收縮壓:\")\n",
    "print(sbp)\n",
    "dbp = pyip.inputInt(\"請輸入舒張壓:\")\n",
    "print(dbp)\n",
    "message = \"\"\n",
    "if sbp < 120 and dbp < 80:\n",
    "    message = \"正常\"\n",
    "elif sbp < 130 and dbp < 80:\n",
    "    message = \"血壓升高\"\n",
    "elif sbp >= 130 and dbp < 80:\n",
    "    message = \"單純收縮期\\n 高血壓\"\n",
    "elif sbp < 140 or dbp < 90:\n",
    "    message = \"高血壓一期\"\n",
    "elif sbp >= 140 or dbp >= 90:\n",
    "    message = \"高血壓二期\"\n",
    "\n",
    "print(message)"
   ]
  }
 ],
 "metadata": {
  "kernelspec": {
   "display_name": ".venv",
   "language": "python",
   "name": "python3"
  },
  "language_info": {
   "codemirror_mode": {
    "name": "ipython",
    "version": 3
   },
   "file_extension": ".py",
   "mimetype": "text/x-python",
   "name": "python",
   "nbconvert_exporter": "python",
   "pygments_lexer": "ipython3",
   "version": "3.10.8"
  },
  "orig_nbformat": 4
 },
 "nbformat": 4,
 "nbformat_minor": 2
}
