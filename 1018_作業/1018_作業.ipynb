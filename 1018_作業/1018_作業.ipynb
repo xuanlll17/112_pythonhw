{
 "cells": [
  {
   "cell_type": "code",
   "execution_count": 1,
   "metadata": {},
   "outputs": [
    {
     "name": "stdout",
     "output_type": "stream",
     "text": [
      "[*********************100%%**********************]  1 of 1 completed\n"
     ]
    }
   ],
   "source": [
    "import sqlite3\n",
    "import csv\n",
    "import yfinance as yf\n",
    "\n",
    "data = yf.download(\"2330.TW\", start='2023-01-01')\n",
    "data.to_csv('台積電.csv')\n",
    "\n",
    "def create_table(conn): \n",
    "\t\n",
    "\tcur = conn.cursor() #建立cursor \n",
    "\n",
    "\t#cursor -> sql語法(多行文字下sql語法) \n",
    "\t#id INT PRIMARY KEY NOT NULL AUTOINCREMENT,\n",
    "\tcur.execute(\n",
    "\t\t'''\n",
    "\t\tCREATE TABLE IF NOT EXISTS 台積電(\n",
    "\t\t\t\"id\"\tINTEGER,\n",
    "\t\t\t\"日期\"\tTEXT NOT NULL,\n",
    "\t\t\t\"開盤價\"\tINTEGER NOT NULL,\n",
    "\t\t\t\"盤中最高價\"\tINTEGER NOT NULL,\n",
    "\t\t\t\"盤中最低價\"\tINTEGER NOT NULL,\n",
    "\t\t\t\"收盤價\"\tINTEGER NOT NULL,\n",
    "\t\t\t\"調整後收盤價\"\tINTEGER NOT NULL,\n",
    "\t\t\t\"成交量\"\tINTEGER NOT NULL,\n",
    "\t\t\tPRIMARY KEY(\"id\" AUTOINCREMENT)\n",
    "\t\t);\n",
    "\t\t'''\n",
    "\t)\n",
    "\tconn.commit()\n",
    "\t\n",
    "def insert_data(conn,values): \n",
    "\tcur = conn.cursor()\n",
    "\tsql = '''\n",
    "\t\tINSERT INTO 台積電(日期,開盤價,盤中最高價,盤中最低價,收盤價,調整後收盤價,成交量)\n",
    "\t\tVALUES(?,?,?,?,?,?,?)\n",
    "\t'''\n",
    "\tcur.execute(sql,values) #cursor 執行sql語法,values\n",
    "\tconn.commit()\n",
    "\n",
    "conn = sqlite3.connect(\"2330.db\") #如果沒有就建立,有就直接用\n",
    "create_table(conn) #conn 引數值 傳到參數 conn(def create_table(conn))\n",
    "\n",
    "with open('台積電.csv') as f:\n",
    "\treader = csv.DictReader(f)\n",
    "\tfor item in reader: #把資料一筆一筆輸入進insert_data的values\n",
    "\t\tinsert_data(conn,[item['Date'],item['Open'],item['High'],item['Low'],item['Close'],item['Adj Close'],item['Volume']]) #conn -> conn,list -> values \n",
    "\t\t"
   ]
  }
 ],
 "metadata": {
  "kernelspec": {
   "display_name": ".venv",
   "language": "python",
   "name": "python3"
  },
  "language_info": {
   "codemirror_mode": {
    "name": "ipython",
    "version": 3
   },
   "file_extension": ".py",
   "mimetype": "text/x-python",
   "name": "python",
   "nbconvert_exporter": "python",
   "pygments_lexer": "ipython3",
   "version": "3.10.8"
  }
 },
 "nbformat": 4,
 "nbformat_minor": 2
}
