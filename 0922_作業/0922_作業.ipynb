{
 "cells": [
  {
   "cell_type": "markdown",
   "metadata": {},
   "source": [
    "# 求所有因數\n",
    "```\n",
    "num = int(input(\"請輸入整數，求所有因數:\"))\n",
    "print(num,\"的因數:\")\n",
    "```"
   ]
  },
  {
   "cell_type": "code",
   "execution_count": 36,
   "metadata": {},
   "outputs": [
    {
     "name": "stdout",
     "output_type": "stream",
     "text": [
      "95 的因數: 1 5 19 95 "
     ]
    }
   ],
   "source": [
    "#求所有因數\n",
    "num = int(input(\"請輸入整數，求所有因數:\"))\n",
    "print(num,\"的因數:\",end=\" \")\n",
    "for i in range(1,num+1):\n",
    "    if num % i ==0:\n",
    "        print(i, end=\" \")\n"
   ]
  },
  {
   "cell_type": "markdown",
   "metadata": {},
   "source": [
    "# 求公因數\n",
    "```\n",
    "print(\"請輸入2數,求2數公因數:\")\n",
    "n = int(input('請輸入第1個數:'))\n",
    "m = int(input('請輸入第2個數:'))\n",
    "```"
   ]
  },
  {
   "cell_type": "code",
   "execution_count": 24,
   "metadata": {},
   "outputs": [
    {
     "name": "stdout",
     "output_type": "stream",
     "text": [
      "請輸入2數,求2數公因數:3,9\n",
      "3,9的公因數為: 1 3 "
     ]
    }
   ],
   "source": [
    "#求公因數\n",
    "n = int(input('請輸入第1個數:'))\n",
    "m = int(input('請輸入第2個數:'))\n",
    "print(f\"請輸入2數,求2數公因數:{n},{m}\")\n",
    "print(f\"{n},{m}的公因數為:\",end=\" \")\n",
    "\n",
    "for i in range(1, n+m):\n",
    "    if n % i == 0 and m % i == 0:\n",
    "        print(i, end=\" \")\n"
   ]
  },
  {
   "cell_type": "markdown",
   "metadata": {},
   "source": [
    "# 2~100,每一個的質數\n",
    "```\n",
    "end = int(input(\"請輸入end值:\"))\n",
    "print(f\"2到{end}的質數是:\")\n",
    "```"
   ]
  },
  {
   "cell_type": "code",
   "execution_count": 38,
   "metadata": {},
   "outputs": [
    {
     "name": "stdout",
     "output_type": "stream",
     "text": [
      "2到100的質數是:\n",
      "2 3 5 7 11 13 17 19 23 29 31 37 41 43 47 53 59 61 67 71 73 79 83 89 97 "
     ]
    }
   ],
   "source": [
    "#2~100,每一個的質數(?)\n",
    "end = int(input(\"請輸入數值:\"))\n",
    "print(f\"2到{end}的質數是:\")\n",
    "for i in range(2, end+1):\n",
    "    for j in range(2, i):\n",
    "        if i % j == 0:\n",
    "            break\n",
    "    else:\n",
    "        print(i, end=\" \")"
   ]
  },
  {
   "cell_type": "markdown",
   "metadata": {},
   "source": [
    "# 猜數字遊戲\n",
    "- 猜中要告知猜了幾次\n",
    "- 沒猜中要有提醒\n",
    "```\n",
    "import random\n",
    "min = 1\n",
    "max = 100\n",
    "count = 0\n",
    "target = random.randint(min, max)\n",
    "print(\"===============猜數字遊戲=================:\\n\")\n",
    "while(True):\n",
    "   keyin = input(f\"猜數字範圍{min}~{max}\")\n",
    "```\n",
    "> 例如:\n",
    "\n",
    "要猜的數值是:34\n",
    "\n",
    "猜數字範圍1~100:50\n",
    "\n",
    "提示:\n",
    "\n",
    "再小一點\n",
    "\n",
    "您已經猜了1次\n",
    "\n",
    "猜數字範圍1~49:10\n",
    "\n",
    "提示:\n",
    "\n",
    "再大一點\n",
    "\n",
    "您已經猜了2次\n",
    "\n",
    "猜數字範圍11~49:34\n",
    "\n",
    "您猜中了,答案是34\n",
    "\n",
    "您總共猜了3次"
   ]
  },
  {
   "cell_type": "code",
   "execution_count": 1,
   "metadata": {},
   "outputs": [
    {
     "name": "stdout",
     "output_type": "stream",
     "text": [
      "=================猜數字遊戲=================:\n",
      "\n",
      "猜數字範圍12~99\n",
      "\n",
      "再大一點\n",
      "您已經猜了1次\n",
      "猜數字範圍23~99:23\n",
      "\n",
      "再大一點\n",
      "您已經猜了2次\n",
      "猜數字範圍45~99:45\n",
      "\n",
      "再小一點\n",
      "您已經猜了3次\n",
      "猜數字範圍45~88:88\n",
      "\n",
      "再小一點\n",
      "您已經猜了4次\n",
      "猜數字範圍45~77:77\n",
      "\n",
      "再小一點\n",
      "您已經猜了5次\n",
      "猜數字範圍45~56:56\n",
      "\n",
      "再小一點\n",
      "您已經猜了6次\n",
      "猜數字範圍45~50:50\n",
      "\n",
      "再小一點\n",
      "您已經猜了7次\n",
      "猜數字範圍45~48:48\n",
      "\n",
      "您猜中了,答案是46\n",
      "您總共猜了8次\n"
     ]
    }
   ],
   "source": [
    "#建立亂數\n",
    "#猜中要告知猜幾次\n",
    "#沒猜中要提醒\n",
    "import random\n",
    "min = int(input(\"請輸入最小值\"))\n",
    "max = int(input(\"請輸入最大值\"))\n",
    "count = 0\n",
    "target = random.randint(min, max)\n",
    "print(\"=================猜數字遊戲=================:\\n\")\n",
    "print(f\"猜數字範圍{min}~{max}\\n\")\n",
    "while(True):\n",
    "    try:\n",
    "        keyin = input(f\"猜數字範圍{min}~{max} (按e離開遊戲)\")\n",
    "        if keyin =='e':\n",
    "            print(\"離開遊戲\")\n",
    "            break\n",
    "        temp = int(keyin)\n",
    "        if temp > max or temp < min:\n",
    "            print(f\"輸入錯誤重新輸入\")\n",
    "            continue\n",
    "    except:\n",
    "        print(f\"輸入錯誤重新輸入\")\n",
    "        continue        \n",
    "    else:\n",
    "        if temp < target:\n",
    "            print(\"再大一點\")\n",
    "            count += 1\n",
    "            min = temp\n",
    "            print(f\"您已經猜了{count}次\")\n",
    "            print(f\"猜數字範圍{min}~{max}:{temp}\\n\")\n",
    "        elif temp > target:\n",
    "            count += 1\n",
    "            max = temp \n",
    "            print(\"再小一點\")\n",
    "            print(f\"您已經猜了{count}次\")\n",
    "            print(f\"猜數字範圍{min}~{max}:{temp}\\n\")\n",
    "        elif temp == target:\n",
    "            count += 1\n",
    "            print(f\"您猜中了,答案是{temp}\")\n",
    "            print(f\"您總共猜了{count}次\")\n",
    "            break"
   ]
  }
 ],
 "metadata": {
  "kernelspec": {
   "display_name": ".venv",
   "language": "python",
   "name": "python3"
  },
  "language_info": {
   "codemirror_mode": {
    "name": "ipython",
    "version": 3
   },
   "file_extension": ".py",
   "mimetype": "text/x-python",
   "name": "python",
   "nbconvert_exporter": "python",
   "pygments_lexer": "ipython3",
   "version": "3.10.8"
  },
  "orig_nbformat": 4
 },
 "nbformat": 4,
 "nbformat_minor": 2
}
