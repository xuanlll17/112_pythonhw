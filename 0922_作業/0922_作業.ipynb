{
 "cells": [
  {
   "cell_type": "markdown",
   "metadata": {},
   "source": [
    "# 求所有因數\n",
    "```\n",
    "num = int(input(\"請輸入整數，求所有因數:\"))\n",
    "print(num,\"的因數:\")\n",
    "```"
   ]
  },
  {
   "cell_type": "code",
   "execution_count": 27,
   "metadata": {},
   "outputs": [
    {
     "name": "stdout",
     "output_type": "stream",
     "text": [
      "55 的因數:\n"
     ]
    }
   ],
   "source": [
    "#求所有因數\n",
    "num = int(input(\"請輸入整數，求所有因數:\"))\n",
    "print(num,\"的因數:\")"
   ]
  },
  {
   "cell_type": "markdown",
   "metadata": {},
   "source": [
    "# 求公因數\n",
    "```\n",
    "print(\"請輸入2數,求2數公因數:\")\n",
    "n = int(input('請輸入第1個數:'))\n",
    "m = int(input('請輸入第2個數:'))\n",
    "```"
   ]
  },
  {
   "cell_type": "code",
   "execution_count": 28,
   "metadata": {},
   "outputs": [
    {
     "name": "stdout",
     "output_type": "stream",
     "text": [
      "請輸入2數,求2數公因數:23,12\n",
      "12\n",
      "11\n",
      "1\n"
     ]
    }
   ],
   "source": [
    "#求公因數\n",
    "print(\"請輸入2數,求2數公因數:\",end=\"\")\n",
    "n = int(input('請輸入第1個數:'))\n",
    "print(n,end=\",\")\n",
    "m = int(input('請輸入第2個數:'))\n",
    "print(m)\n",
    "\n",
    "while m != 0:\n",
    "    i = n % m\n",
    "    n = m\n",
    "    m = i\n",
    "    print(n)"
   ]
  },
  {
   "cell_type": "code",
   "execution_count": 29,
   "metadata": {},
   "outputs": [
    {
     "ename": "ValueError",
     "evalue": "invalid literal for int() with base 10: ''",
     "output_type": "error",
     "traceback": [
      "\u001b[1;31m---------------------------------------------------------------------------\u001b[0m",
      "\u001b[1;31mValueError\u001b[0m                                Traceback (most recent call last)",
      "\u001b[1;32mc:\\Users\\leeyi\\OneDrive\\Documents\\GitHub\\112_pythonhw\\0922_作業\\0922_作業.ipynb 儲存格 5\u001b[0m line \u001b[0;36m2\n\u001b[0;32m      <a href='vscode-notebook-cell:/c%3A/Users/leeyi/OneDrive/Documents/GitHub/112_pythonhw/0922_%E4%BD%9C%E6%A5%AD/0922_%E4%BD%9C%E6%A5%AD.ipynb#W4sZmlsZQ%3D%3D?line=0'>1</a>\u001b[0m a\u001b[39m=\u001b[39m\u001b[39mint\u001b[39m(\u001b[39minput\u001b[39m(\u001b[39m'\u001b[39m\u001b[39m輸入數字:\u001b[39m\u001b[39m'\u001b[39m))\n\u001b[1;32m----> <a href='vscode-notebook-cell:/c%3A/Users/leeyi/OneDrive/Documents/GitHub/112_pythonhw/0922_%E4%BD%9C%E6%A5%AD/0922_%E4%BD%9C%E6%A5%AD.ipynb#W4sZmlsZQ%3D%3D?line=1'>2</a>\u001b[0m b\u001b[39m=\u001b[39m\u001b[39mint\u001b[39;49m(\u001b[39minput\u001b[39;49m(\u001b[39m'\u001b[39;49m\u001b[39m輸入數字:\u001b[39;49m\u001b[39m'\u001b[39;49m))\n\u001b[0;32m      <a href='vscode-notebook-cell:/c%3A/Users/leeyi/OneDrive/Documents/GitHub/112_pythonhw/0922_%E4%BD%9C%E6%A5%AD/0922_%E4%BD%9C%E6%A5%AD.ipynb#W4sZmlsZQ%3D%3D?line=2'>3</a>\u001b[0m \u001b[39mmax\u001b[39m\u001b[39m=\u001b[39m\u001b[39m1\u001b[39m\n\u001b[0;32m      <a href='vscode-notebook-cell:/c%3A/Users/leeyi/OneDrive/Documents/GitHub/112_pythonhw/0922_%E4%BD%9C%E6%A5%AD/0922_%E4%BD%9C%E6%A5%AD.ipynb#W4sZmlsZQ%3D%3D?line=3'>4</a>\u001b[0m \u001b[39mfor\u001b[39;00m i \u001b[39min\u001b[39;00m \u001b[39mrange\u001b[39m(\u001b[39m1\u001b[39m,a\u001b[39m*\u001b[39mb):\n",
      "\u001b[1;31mValueError\u001b[0m: invalid literal for int() with base 10: ''"
     ]
    }
   ],
   "source": [
    "a=int(input('輸入數字:'))\n",
    "b=int(input('輸入數字:'))\n",
    "max=1\n",
    "for i in range(1,a*b):\n",
    "    if a%i==0 and b%i==0:\n",
    "        max=i\n",
    "print(max)"
   ]
  },
  {
   "cell_type": "code",
   "execution_count": null,
   "metadata": {},
   "outputs": [
    {
     "name": "stdout",
     "output_type": "stream",
     "text": [
      "A 與 B 的最大公因數為 13\n"
     ]
    }
   ],
   "source": [
    "def gcd(a,b):\n",
    "    while b != 0:\n",
    "        r = a % b\n",
    "        a = b\n",
    "        b = r\n",
    "    return a\n",
    "a = int(input(\"請輸入一個整數 A?\"))\n",
    "b = int(input(\"請輸入一個整數 B?\"))\n",
    "print(\"A 與 B 的最大公因數為\",gcd(a,b))"
   ]
  },
  {
   "cell_type": "markdown",
   "metadata": {},
   "source": [
    "# 2~100,每一個的質數\n",
    "```\n",
    "end = int(input(\"請輸入end值:\"))\n",
    "print(f\"1到{end}的質數是:\")\n",
    "```"
   ]
  },
  {
   "cell_type": "code",
   "execution_count": null,
   "metadata": {},
   "outputs": [],
   "source": [
    "#2~100,每一個的質數\n",
    "a = int(input(\"請輸入數值:\"))\n",
    "print(f\"2到{a}的質數是:\")\n"
   ]
  },
  {
   "cell_type": "markdown",
   "metadata": {},
   "source": [
    "# 猜數字遊戲\n",
    "- 猜中要告知猜了幾次\n",
    "- 沒猜中要有提醒\n",
    "```\n",
    "import random\n",
    "min = 1\n",
    "max = 100\n",
    "count = 0\n",
    "target = random.randint(min, max)\n",
    "print(\"===============猜數字遊戲=================:\\n\")\n",
    "while(True):\n",
    "   keyin = input(f\"猜數字範圍{min}~{max}\")\n",
    "```\n",
    "- 例如:\n",
    "\n",
    "   - 要猜的數值是:34\n",
    "\n",
    "   - 猜數字範圍1~100:50\n",
    "\n",
    "   - 提示:\n",
    "\n",
    "      - 再小一點\n",
    "\n",
    "   - 您已經猜了1次\n",
    "\n",
    "   - 猜數字範圍1~49:10\n",
    "\n",
    "提示:\n",
    "\n",
    "再大一點\n",
    "\n",
    "您已經猜了2次\n",
    "\n",
    "猜數字範圍11~49:34\n",
    "\n",
    "您猜中了,答案是34\n",
    "\n",
    "您總共猜了3次"
   ]
  },
  {
   "cell_type": "code",
   "execution_count": 37,
   "metadata": {},
   "outputs": [
    {
     "name": "stdout",
     "output_type": "stream",
     "text": [
      "16\n",
      "=================猜數字遊戲=================:\n",
      "\n",
      "猜數字範圍1~17\n",
      "\n",
      "再大一點\n",
      "猜數字範圍2~17:2\n",
      "再大一點\n",
      "猜數字範圍8~17:8\n",
      "輸入錯誤重新輸入\n",
      "再大一點\n",
      "猜數字範圍15~17:15\n",
      "再大一點\n",
      "猜數字範圍15~17:15\n",
      "您猜中了,答案是16\n",
      "您總共猜了5次\n"
     ]
    }
   ],
   "source": [
    "#建立亂數\n",
    "#猜中要告知猜幾次\n",
    "#沒猜中要提醒\n",
    "import random\n",
    "min = int(input(\"請輸入數字\"))\n",
    "max = int(input(\"請輸入數字\"))\n",
    "count = 0\n",
    "target = random.randint(min, max)\n",
    "print(target)\n",
    "print(\"=================猜數字遊戲=================:\\n\")\n",
    "print(f\"猜數字範圍{min}~{max}\\n\")\n",
    "while(True):\n",
    "    try:\n",
    "        keyin = input(f\"猜數字範圍{min}~{max}\")\n",
    "        temp = int(keyin)\n",
    "        if temp > max or temp < min:\n",
    "            print(f\"輸入錯誤重新輸入\")\n",
    "            continue\n",
    "    except:\n",
    "        print(f\"輸入錯誤重新輸入\")\n",
    "        continue        \n",
    "    else:\n",
    "        if temp < target:\n",
    "            print(\"再大一點\")\n",
    "            count += 1\n",
    "            min = temp\n",
    "            print(f\"猜數字範圍{min}~{max}:{temp}\")\n",
    "        elif temp > target:\n",
    "            count += 1\n",
    "            max = temp \n",
    "            print(\"再小一點\")\n",
    "            print(f\"猜數字範圍{min}~{max}:{temp}\")\n",
    "        elif temp == target:\n",
    "            count += 1\n",
    "            print(f\"您猜中了,答案是{temp}\")\n",
    "            print(f\"您總共猜了{count}次\")\n",
    "            break"
   ]
  }
 ],
 "metadata": {
  "kernelspec": {
   "display_name": ".venv",
   "language": "python",
   "name": "python3"
  },
  "language_info": {
   "codemirror_mode": {
    "name": "ipython",
    "version": 3
   },
   "file_extension": ".py",
   "mimetype": "text/x-python",
   "name": "python",
   "nbconvert_exporter": "python",
   "pygments_lexer": "ipython3",
   "version": "3.10.8"
  },
  "orig_nbformat": 4
 },
 "nbformat": 4,
 "nbformat_minor": 2
}
