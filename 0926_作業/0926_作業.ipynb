{
 "cells": [
  {
   "cell_type": "markdown",
   "metadata": {},
   "source": [
    "打香腸規則：\n",
    "\n",
    "- 一次骰4個骰子\n",
    "- 如果有2個相同的數字，則另外2數加總。 e.g.1123=5\n",
    "- 如果有2對2個相同的數字，則較大對數加總。 e.g.1166=12\n",
    "- 如果有3個相同的數字 && 4個數都不同，就「作廢」。 e.g.1234、3331=作廢\n",
    "- 如果4個數皆相同，就「豹子」，比3.4.大。 e.g.3333"
   ]
  },
  {
   "cell_type": "code",
   "execution_count": 83,
   "metadata": {},
   "outputs": [
    {
     "name": "stdout",
     "output_type": "stream",
     "text": [
      "[3, 3, 5, 3]\n",
      "重新開始\n",
      "[6, 4, 1, 4]\n",
      "重新開始\n",
      "[6, 4, 2, 1]\n",
      "重新開始\n",
      "[4, 3, 5, 4]\n",
      "8\n"
     ]
    }
   ],
   "source": [
    "import random\n",
    "while True:\n",
    "    target = [random.randint(1, 6) for x in range(4)]\n",
    "    print(target)\n",
    "\n",
    "    if target[0] == target[1] == target[2] == target[3]:\n",
    "        print(\"豹子\")\n",
    "        break\n",
    "    elif target[0] == target[1] == target[2]:\n",
    "        print(\"重新開始\")\n",
    "        continue\n",
    "    elif target[0] == target[1] == target[3]:\n",
    "        print(\"重新開始\")\n",
    "        continue\n",
    "    elif target[1] == target[2] == target[3]:\n",
    "        print(\"重新開始\")\n",
    "        continue\n",
    "    elif target[0] == target[1]:\n",
    "        temp=target[2]+target[3]\n",
    "        print(temp)\n",
    "        break\n",
    "    elif target[0] == target[2]:\n",
    "        temp=target[1]+target[3]\n",
    "        print(temp)\n",
    "        break\n",
    "    elif target[0] == target[3]:\n",
    "        temp=target[1]+target[2]\n",
    "        print(temp)\n",
    "        break\n",
    "    elif not (target[0] == target[1] == target[2] == target[3]):\n",
    "        print(\"重新開始\")\n",
    "        continue\n",
    "    "
   ]
  },
  {
   "cell_type": "code",
   "execution_count": 95,
   "metadata": {},
   "outputs": [
    {
     "name": "stdout",
     "output_type": "stream",
     "text": [
      "[5, 2, 3, 2]\n",
      "豹子\n",
      "豹子\n",
      "豹子\n",
      "豹子\n"
     ]
    }
   ],
   "source": [
    "import random\n",
    "while True:\n",
    "    target = [random.randint(1, 6) for x in range(4)]\n",
    "    print(target)\n",
    "\n",
    "    for i in range(0,4):\n",
    "        if target[i] == target[i] == target[i] == target[i]:\n",
    "            print(\"豹子\")\n",
    "        else:\n",
    "            print(\"again\")\n",
    "    break"
   ]
  },
  {
   "cell_type": "code",
   "execution_count": 16,
   "metadata": {},
   "outputs": [
    {
     "name": "stdout",
     "output_type": "stream",
     "text": [
      "[3, 5, 4, 3]\n"
     ]
    }
   ],
   "source": [
    "import random\n",
    "def dice():\n",
    "    target=[random.randint(1,6) for i in range(4)] \n",
    "    print(target)\n",
    "    \n",
    "dice()"
   ]
  }
 ],
 "metadata": {
  "kernelspec": {
   "display_name": ".venv",
   "language": "python",
   "name": "python3"
  },
  "language_info": {
   "codemirror_mode": {
    "name": "ipython",
    "version": 3
   },
   "file_extension": ".py",
   "mimetype": "text/x-python",
   "name": "python",
   "nbconvert_exporter": "python",
   "pygments_lexer": "ipython3",
   "version": "3.10.8"
  },
  "orig_nbformat": 4
 },
 "nbformat": 4,
 "nbformat_minor": 2
}
