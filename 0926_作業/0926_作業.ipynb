{
 "cells": [
  {
   "cell_type": "markdown",
   "metadata": {},
   "source": [
    "規則：\n",
    "\n",
    "- 一次骰4個骰子\n",
    "- 2個相同的數,另2數加總\n",
    "- 2對2個相同的數,較大加總\n",
    "- 3個相同的數,4個不同的數 -> 重新開始\n",
    "- 4個數相同 -> 豹子"
   ]
  },
  {
   "cell_type": "code",
   "execution_count": 112,
   "metadata": {},
   "outputs": [
    {
     "name": "stdout",
     "output_type": "stream",
     "text": [
      "[1, 5, 1, 6]\n",
      "11\n"
     ]
    }
   ],
   "source": [
    "import random\n",
    "def throw_dice():\n",
    "    dice = [random.randint(1, 6) for i in range(4)]       #一次擲4個骰子\n",
    "    print(dice)\n",
    "    if dice[0] == dice[1] == dice[2] == dice[3]:   \n",
    "        print(\"豹子\")\n",
    "    elif dice[0] == dice[1] == dice[2] or dice[0] == dice[1] == dice[3]:    \n",
    "        print(\"重新開始\")\n",
    "    elif dice[0] == dice[2] == dice[3] or dice[1] == dice[2] == dice[3]:\n",
    "        print(\"重新開始\")\n",
    "    elif dice[0] == dice[1]:    \n",
    "        score=dice[2]+dice[3]\n",
    "        print(score)\n",
    "    elif dice[1] == dice[2]:\n",
    "        score=dice[0]+dice[3]\n",
    "        print(score)\n",
    "    elif dice[1] == dice[3]:\n",
    "        score=dice[0]+dice[2]\n",
    "        print(score)\n",
    "    elif dice[0] == dice[2]:\n",
    "        score=dice[1]+dice[3]\n",
    "        print(score)\n",
    "    elif dice[0] == dice[3]:\n",
    "        score=dice[1]+dice[2]\n",
    "        print(score)\n",
    "    elif dice[2] == dice[3]:\n",
    "        score=dice[0]+dice[1]\n",
    "        print(score)\n",
    "    else:\n",
    "        print(\"重新開始\")\n",
    "        \n",
    "throw_dice()"
   ]
  }
 ],
 "metadata": {
  "kernelspec": {
   "display_name": ".venv",
   "language": "python",
   "name": "python3"
  },
  "language_info": {
   "codemirror_mode": {
    "name": "ipython",
    "version": 3
   },
   "file_extension": ".py",
   "mimetype": "text/x-python",
   "name": "python",
   "nbconvert_exporter": "python",
   "pygments_lexer": "ipython3",
   "version": "3.10.8"
  },
  "orig_nbformat": 4
 },
 "nbformat": 4,
 "nbformat_minor": 2
}
