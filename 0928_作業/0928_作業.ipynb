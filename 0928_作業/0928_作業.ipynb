{
 "cells": [
  {
   "cell_type": "markdown",
   "metadata": {},
   "source": [
    "<img alt=\"截圖 2023-09-28 下午3 40 14\" width=\"680\" src=\"https://user-images.githubusercontent.com/1614274/271208484-e92b5587-814a-44c3-bc4b-1bd4f74055f8.png\">"
   ]
  },
  {
   "cell_type": "code",
   "execution_count": 66,
   "metadata": {},
   "outputs": [
    {
     "name": "stdout",
     "output_type": "stream",
     "text": [
      "名字: bob\n",
      "骰子一: 4\n",
      "骰子二: 6\n",
      "骰子三: 4\n",
      "骰子四: 6\n",
      "得分: 12\n",
      "\n",
      "名字: robert\n",
      "骰子一: 1\n",
      "骰子二: 3\n",
      "骰子三: 2\n",
      "骰子四: 1\n",
      "得分: 5\n",
      "\n"
     ]
    }
   ],
   "source": [
    "import random\n",
    "class Player:\n",
    "    def __init__(self,n:str):\n",
    "        self.name = n\n",
    "        self.dice1 = 0\n",
    "        self.dice2 = 0\n",
    "        self.dice3 = 0\n",
    "        self.dice4 = 0 \n",
    "\n",
    "    #method\n",
    "    def __play(self):\n",
    "        score = 0\n",
    "        while score == 0:   \n",
    "            dice1 = random.randint(1,6)\n",
    "            dice2 = random.randint(1,6)\n",
    "            dice3 = random.randint(1,6)\n",
    "            dice4 = random.randint(1,6) \n",
    "            dice = sorted([dice1,dice2,dice3,dice4])\n",
    "            if dice[0] == dice[1] == dice[2] == dice[3]:\n",
    "                score = 12 + dice[0]\n",
    "            elif dice[0] == dice[1] == dice[2]:    \n",
    "                score = 0\n",
    "            elif dice[0] == dice[1] == dice[3]:\n",
    "                score = 0\n",
    "            elif dice[0] == dice[2] == dice[3]:\n",
    "                score = 0\n",
    "            elif dice[1] == dice[2] == dice[3]:\n",
    "                score = 0\n",
    "            elif dice[0] == dice[1] and dice[2] == dice[3]:    \n",
    "                maximum = max(dice[0],dice[2])\n",
    "                score = maximum * 2\n",
    "            elif dice[0] == dice[2] and dice[1] == dice[3]:    \n",
    "                maximum = max(dice[0],dice[1])\n",
    "                score = maximum * 2\n",
    "            elif dice[0] == dice[3] and dice[1] ==dice[2]:\n",
    "                maximum = max(dice[0],dice[1])\n",
    "                score = maximum * 2    \n",
    "            elif dice[0] == dice[1]:    \n",
    "                score = dice[2] + dice[3]\n",
    "            elif dice[0] == dice[2]:    \n",
    "                score = dice[1] + dice[3]\n",
    "            elif dice[0] == dice[3]:    \n",
    "                score = dice[1] + dice[2]\n",
    "            elif dice[1] == dice[2]:    \n",
    "                score = dice[0] + dice[3]\n",
    "            elif dice[1] == dice[3]:    \n",
    "                score = dice[0] + dice[2]\n",
    "            elif dice[2] == dice[3]:    \n",
    "                score = dice[0] + dice[1]\n",
    "            else:\n",
    "                score = 0\n",
    "        \n",
    "        return f'骰子一: {dice1}\\n骰子二: {dice2}\\n骰子三: {dice3}\\n骰子四: {dice4}\\n得分: {score}\\n'\n",
    "                        \n",
    "\n",
    "    @property\n",
    "    def value(self) -> int:\n",
    "        return self.__play()\n",
    "        \n",
    "    \n",
    "    def __repr__(self) -> str:\n",
    "        descript = \"\"\n",
    "        descript += f\"名字: {self.name}\\n\"\n",
    "        descript += self.value\n",
    "        return descript\n",
    "   \n",
    "\n",
    "    \n",
    "\n",
    "if __name__ == '__main__':\n",
    "    p1 = Player(\"bob\")\n",
    "    print(p1)\n",
    "\n",
    "    p2 = Player(\"robert\")\n",
    "    print(p2)\n",
    "\n",
    "    \n"
   ]
  }
 ],
 "metadata": {
  "kernelspec": {
   "display_name": ".venv",
   "language": "python",
   "name": "python3"
  },
  "language_info": {
   "codemirror_mode": {
    "name": "ipython",
    "version": 3
   },
   "file_extension": ".py",
   "mimetype": "text/x-python",
   "name": "python",
   "nbconvert_exporter": "python",
   "pygments_lexer": "ipython3",
   "version": "3.10.8"
  },
  "orig_nbformat": 4
 },
 "nbformat": 4,
 "nbformat_minor": 2
}
