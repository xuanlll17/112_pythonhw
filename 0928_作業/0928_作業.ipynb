{
 "cells": [
  {
   "cell_type": "markdown",
   "metadata": {},
   "source": [
    "<img alt=\"截圖 2023-09-28 下午3 40 14\" width=\"680\" src=\"https://user-images.githubusercontent.com/1614274/271208484-e92b5587-814a-44c3-bc4b-1bd4f74055f8.png\">"
   ]
  },
  {
   "cell_type": "code",
   "execution_count": 6,
   "metadata": {},
   "outputs": [
    {
     "name": "stdout",
     "output_type": "stream",
     "text": [
      "rob\n",
      "骰子1=5\n",
      "骰子2=6\n",
      "骰子3=6\n",
      "骰子4=5\n",
      "得分=12分\n",
      "\n",
      "robert\n",
      "骰子1=4\n",
      "骰子2=1\n",
      "骰子3=1\n",
      "骰子4=6\n",
      "得分=10分\n",
      "\n"
     ]
    }
   ],
   "source": [
    "import random\n",
    "class Player:\n",
    "    def __init__(self,n:str):\n",
    "        self.name = n\n",
    "        self.__dice1 = random.randint(1,6)\n",
    "        self.__dice2 = random.randint(1,6)\n",
    "        self.__dice3 = random.randint(1,6)\n",
    "        self.__dice4 = random.randint(1,6)\n",
    "\n",
    "    #method\n",
    "    def __play(self) -> int:\n",
    "        while True:\n",
    "            dice = [self.__dice1,self.__dice2,self.__dice3,self.__dice4]\n",
    "            if dice[0] == dice[1] == dice[2] == dice[3]:   \n",
    "                score = 12 + self.__dice1\n",
    "            elif dice[0] == dice[1] == dice[2] or dice[0] == dice[1] == dice[3]:   \n",
    "                score = 0\n",
    "            elif dice[0] == dice[2] == dice[3] or dice[1] == dice[2] == dice[3]:   \n",
    "                score = 0\n",
    "            \n",
    "            elif dice[0] == dice[1] and dice[2] == dice[3]:    \n",
    "                if dice[0] > dice[2]:\n",
    "                    score = dice[0] + dice[1]\n",
    "                else:\n",
    "                    score = dice[2] + dice[3]\n",
    "            elif dice[0] == dice[2] and dice[1] == dice[3]:    \n",
    "                if dice[0] > dice[1]:\n",
    "                    score = dice[0] + dice[2]\n",
    "                else:\n",
    "                    score = dice[1] + dice[3]\n",
    "\n",
    "            elif dice[0] == dice[1]:    \n",
    "                score = dice[2] + dice[3]\n",
    "            elif dice[0] == dice[2]:    \n",
    "                score = dice[1] + dice[3]\n",
    "            elif dice[0] == dice[3]:    \n",
    "                score = dice[1] + dice[2]\n",
    "            elif dice[1] == dice[2]:    \n",
    "                score = dice[0] + dice[3]\n",
    "            elif dice[1] == dice[3]:    \n",
    "                score = dice[0] + dice[2]\n",
    "            elif dice[2] == dice[3]:    \n",
    "                score = dice[0] + dice[1]\n",
    "            elif not (dice[0] == dice[1] == dice[2] == dice[3]):   \n",
    "                score = 0\n",
    "            return score\n",
    "\n",
    "    @property\n",
    "    def value(self) -> int:\n",
    "        return self.__play()\n",
    "        \n",
    "    def __repr__(self) -> str:\n",
    "        descript = \"\"\n",
    "        descript += f\"{self.name}\\n\"\n",
    "        descript += f\"骰子1={self.__dice1}\\n\"\n",
    "        descript += f\"骰子2={self.__dice2}\\n\"\n",
    "        descript += f\"骰子3={self.__dice3}\\n\"\n",
    "        descript += f\"骰子4={self.__dice4}\\n\"\n",
    "        descript += f\"得分={self.value}分\\n\"\n",
    "        return descript\n",
    "    \n",
    "\n",
    "if __name__ == '__main__':\n",
    "    p1 = Player(\"rob\")\n",
    "    print(p1)\n",
    "\n",
    "    p2 = Player(\"robert\")\n",
    "    print(p2)\n",
    "    \n"
   ]
  },
  {
   "cell_type": "markdown",
   "metadata": {},
   "source": [
    "# 0分要重跑一次直到出現分數為止"
   ]
  }
 ],
 "metadata": {
  "kernelspec": {
   "display_name": ".venv",
   "language": "python",
   "name": "python3"
  },
  "language_info": {
   "codemirror_mode": {
    "name": "ipython",
    "version": 3
   },
   "file_extension": ".py",
   "mimetype": "text/x-python",
   "name": "python",
   "nbconvert_exporter": "python",
   "pygments_lexer": "ipython3",
   "version": "3.10.8"
  },
  "orig_nbformat": 4
 },
 "nbformat": 4,
 "nbformat_minor": 2
}
